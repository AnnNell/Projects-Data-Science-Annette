{
    "cells": [
        {
            "cell_type": "markdown",
            "metadata": {},
            "source": "# Project on Clustering of Toronto Neighbourhoods"
        },
        {
            "cell_type": "code",
            "execution_count": 26,
            "metadata": {},
            "outputs": [],
            "source": "import pandas as pd\nimport numpy as np"
        },
        {
            "cell_type": "markdown",
            "metadata": {},
            "source": "### Part1: Data scraping"
        },
        {
            "cell_type": "code",
            "execution_count": 27,
            "metadata": {},
            "outputs": [],
            "source": "# import the library we use to open URLs\nimport urllib.request\n# import the BeautifulSoup library so we can parse HTML and XML documents\nfrom bs4 import BeautifulSoup\n\nurl = \"https://en.wikipedia.org/wiki/List_of_postal_codes_of_Canada:_M\"\npage = urllib.request.urlopen(url)\n# parse the HTML from our URL into the BeautifulSoup parse tree format\nsoup = BeautifulSoup(page, \"html.parser\")"
        },
        {
            "cell_type": "code",
            "execution_count": 28,
            "metadata": {},
            "outputs": [],
            "source": "# The 'find_all' function to bring back all instances of the 'table' in the HTML and store in 'all_tables' variable\nall_tables=soup.find_all(\"table\")\n# use the 'find function' to bring back the wiki sort table\nright_table=soup.find('table', class_='wikitable sortable')\n"
        },
        {
            "cell_type": "code",
            "execution_count": 29,
            "metadata": {},
            "outputs": [
                {
                    "data": {
                        "text/html": "<div>\n<style scoped>\n    .dataframe tbody tr th:only-of-type {\n        vertical-align: middle;\n    }\n\n    .dataframe tbody tr th {\n        vertical-align: top;\n    }\n\n    .dataframe thead th {\n        text-align: right;\n    }\n</style>\n<table border=\"1\" class=\"dataframe\">\n  <thead>\n    <tr style=\"text-align: right;\">\n      <th></th>\n      <th>PostalCode</th>\n      <th>Borough</th>\n      <th>Neighborhood</th>\n    </tr>\n  </thead>\n  <tbody>\n    <tr>\n      <th>0</th>\n      <td>M1A</td>\n      <td>Not assigned</td>\n      <td>Not assigned</td>\n    </tr>\n    <tr>\n      <th>1</th>\n      <td>M2A</td>\n      <td>Not assigned</td>\n      <td>Not assigned</td>\n    </tr>\n    <tr>\n      <th>2</th>\n      <td>M3A</td>\n      <td>North York</td>\n      <td>Parkwoods</td>\n    </tr>\n    <tr>\n      <th>3</th>\n      <td>M4A</td>\n      <td>North York</td>\n      <td>Victoria Village</td>\n    </tr>\n    <tr>\n      <th>4</th>\n      <td>M5A</td>\n      <td>Downtown Toronto</td>\n      <td>Regent Park, Harbourfront</td>\n    </tr>\n  </tbody>\n</table>\n</div>",
                        "text/plain": "  PostalCode            Borough                Neighborhood\n0       M1A\n      Not assigned\n               Not assigned\n\n1       M2A\n      Not assigned\n               Not assigned\n\n2       M3A\n        North York\n                  Parkwoods\n\n3       M4A\n        North York\n           Victoria Village\n\n4       M5A\n  Downtown Toronto\n  Regent Park, Harbourfront"
                    },
                    "execution_count": 29,
                    "metadata": {},
                    "output_type": "execute_result"
                }
            ],
            "source": "# identify the row entries of each collumn\nColPC=[]\nColBo=[]\nColNH=[]\n\nfor row in right_table.findAll('tr'):\n    cells=row.findAll('td')\n    if len(cells)==3:\n        ColPC.append(cells[0].find(text=True))\n        ColBo.append(cells[1].find(text=True))\n        ColNH.append(cells[2].find(text=True))\n        \n# build the dataframe from the scaped data\ndfTor=pd.DataFrame(ColPC,columns=['PostalCode'])\ndfTor['Borough']=ColBo\ndfTor['Neighborhood']=ColNH\ndfTor.head()"
        },
        {
            "cell_type": "markdown",
            "metadata": {},
            "source": "### Data wrangling "
        },
        {
            "cell_type": "code",
            "execution_count": 30,
            "metadata": {},
            "outputs": [],
            "source": "# drop rows without assigned borough\ndfTor=dfTor[dfTor.Borough != 'Not assigned\\n']\n# update the index\ndfTor.reset_index(drop=True,inplace=True)\n\n# remove all the white space \ndfTor = dfTor.replace('\\n','', regex=True)\n"
        },
        {
            "cell_type": "code",
            "execution_count": 22,
            "metadata": {},
            "outputs": [
                {
                    "name": "stdout",
                    "output_type": "stream",
                    "text": "Length of test set:0 row index 0? - you are good; row index >0? replace the neighborhood by borough\n"
                },
                {
                    "data": {
                        "text/html": "<div>\n<style scoped>\n    .dataframe tbody tr th:only-of-type {\n        vertical-align: middle;\n    }\n\n    .dataframe tbody tr th {\n        vertical-align: top;\n    }\n\n    .dataframe thead th {\n        text-align: right;\n    }\n</style>\n<table border=\"1\" class=\"dataframe\">\n  <thead>\n    <tr style=\"text-align: right;\">\n      <th></th>\n      <th>PostalCode</th>\n      <th>Borough</th>\n      <th>Neighborhood</th>\n    </tr>\n  </thead>\n  <tbody>\n    <tr>\n      <th>0</th>\n      <td>M3A</td>\n      <td>North York</td>\n      <td>Parkwoods</td>\n    </tr>\n    <tr>\n      <th>1</th>\n      <td>M4A</td>\n      <td>North York</td>\n      <td>Victoria Village</td>\n    </tr>\n    <tr>\n      <th>2</th>\n      <td>M5A</td>\n      <td>Downtown Toronto</td>\n      <td>Regent Park, Harbourfront</td>\n    </tr>\n    <tr>\n      <th>3</th>\n      <td>M6A</td>\n      <td>North York</td>\n      <td>Lawrence Manor, Lawrence Heights</td>\n    </tr>\n    <tr>\n      <th>4</th>\n      <td>M7A</td>\n      <td>Downtown Toronto</td>\n      <td>Queen's Park, Ontario Provincial Government</td>\n    </tr>\n    <tr>\n      <th>5</th>\n      <td>M9A</td>\n      <td>Etobicoke</td>\n      <td>Islington Avenue, Humber Valley Village</td>\n    </tr>\n    <tr>\n      <th>6</th>\n      <td>M1B</td>\n      <td>Scarborough</td>\n      <td>Malvern, Rouge</td>\n    </tr>\n    <tr>\n      <th>7</th>\n      <td>M3B</td>\n      <td>North York</td>\n      <td>Don Mills</td>\n    </tr>\n    <tr>\n      <th>8</th>\n      <td>M4B</td>\n      <td>East York</td>\n      <td>Parkview Hill, Woodbine Gardens</td>\n    </tr>\n    <tr>\n      <th>9</th>\n      <td>M5B</td>\n      <td>Downtown Toronto</td>\n      <td>Garden District, Ryerson</td>\n    </tr>\n    <tr>\n      <th>10</th>\n      <td>M6B</td>\n      <td>North York</td>\n      <td>Glencairn</td>\n    </tr>\n    <tr>\n      <th>11</th>\n      <td>M9B</td>\n      <td>Etobicoke</td>\n      <td>West Deane Park, Princess Gardens, Martin Grov...</td>\n    </tr>\n  </tbody>\n</table>\n</div>",
                        "text/plain": "   PostalCode           Borough  \\\n0         M3A        North York   \n1         M4A        North York   \n2         M5A  Downtown Toronto   \n3         M6A        North York   \n4         M7A  Downtown Toronto   \n5         M9A         Etobicoke   \n6         M1B       Scarborough   \n7         M3B        North York   \n8         M4B         East York   \n9         M5B  Downtown Toronto   \n10        M6B        North York   \n11        M9B         Etobicoke   \n\n                                         Neighborhood  \n0                                           Parkwoods  \n1                                    Victoria Village  \n2                           Regent Park, Harbourfront  \n3                    Lawrence Manor, Lawrence Heights  \n4         Queen's Park, Ontario Provincial Government  \n5             Islington Avenue, Humber Valley Village  \n6                                      Malvern, Rouge  \n7                                           Don Mills  \n8                     Parkview Hill, Woodbine Gardens  \n9                            Garden District, Ryerson  \n10                                          Glencairn  \n11  West Deane Park, Princess Gardens, Martin Grov...  "
                    },
                    "execution_count": 22,
                    "metadata": {},
                    "output_type": "execute_result"
                }
            ],
            "source": "\n# test that there is no Borough without Neighborhood\ndfTorTest=dfTor[dfTor.Neighborhood == 'Not assigned']\nprint('Length of test set:' + str(dfTorTest.shape[0]) + ' row index 0? - you are good; row index >0? replace the neighborhood by borough')\n\n# display the final data set\ndfTor.head(12)"
        },
        {
            "cell_type": "code",
            "execution_count": 31,
            "metadata": {},
            "outputs": [
                {
                    "name": "stdout",
                    "output_type": "stream",
                    "text": "The data set contains of: 103 rows\n"
                }
            ],
            "source": "# length of final Data Frame\nprint ('The data set contains of: '+ str(dfTor.shape[0]) + ' rows')"
        },
        {
            "cell_type": "markdown",
            "metadata": {},
            "source": "## Longitude and Lattitude of Post Codes"
        },
        {
            "cell_type": "code",
            "execution_count": 32,
            "metadata": {},
            "outputs": [
                {
                    "name": "stdout",
                    "output_type": "stream",
                    "text": "Data downloaded and read into a dataframe!\n"
                }
            ],
            "source": "#import geospacial data as csv file as the geocoder did not return values within reasonable time\ndf_DatLaLo = pd.read_csv('https://cocl.us/Geospatial_data/Geospatial_Coordinates.csv')\nprint('Data downloaded and read into a dataframe!')"
        },
        {
            "cell_type": "code",
            "execution_count": null,
            "metadata": {},
            "outputs": [],
            "source": "\n#loop over the toronto postal codes to assign a latitude and longitude to each neighborhood\n# initialize the columns\nColLa=[]\nColLo=[]\n\n# for each index in the toronto neighborhood data frame\nfor ind in dfTor.index: \n    # extract the post code\n    PC=dfTor['PostalCode'][ind]\n    # find the post code in the list of latitude and longitude\n    idx = df_DatLaLo[df_DatLaLo['Postal Code']==PC].index.values\n    # save the data of latitude and longitude in column\n    ColLa.append(float(df_DatLaLo['Latitude'][idx].values))\n    ColLo.append(float(df_DatLaLo['Longitude'][idx].values))\n        \n# construct the new dataframe with latitude and longitude\ndfTorLaLo=dfTor\ndfTorLaLo['Latitude']=ColLa\ndfTorLaLo['Longitude']=ColLo\ndfTorLaLo.head(12)"
        }
    ],
    "metadata": {
        "kernelspec": {
            "display_name": "Python 3.6",
            "language": "python",
            "name": "python3"
        },
        "language_info": {
            "codemirror_mode": {
                "name": "ipython",
                "version": 3
            },
            "file_extension": ".py",
            "mimetype": "text/x-python",
            "name": "python",
            "nbconvert_exporter": "python",
            "pygments_lexer": "ipython3",
            "version": "3.6.9"
        }
    },
    "nbformat": 4,
    "nbformat_minor": 1
}